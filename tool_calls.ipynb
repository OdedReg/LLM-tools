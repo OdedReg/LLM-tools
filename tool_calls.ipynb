{
  "nbformat": 4,
  "nbformat_minor": 0,
  "metadata": {
    "colab": {
      "provenance": []
    },
    "kernelspec": {
      "name": "python3",
      "display_name": "Python 3"
    },
    "language_info": {
      "name": "python"
    }
  },
  "cells": [
    {
      "cell_type": "code",
      "execution_count": 1,
      "metadata": {
        "colab": {
          "base_uri": "https://localhost:8080/"
        },
        "id": "WOl3QE6Wr2ze",
        "outputId": "9f284736-68c6-422c-8987-b55baae703bc"
      },
      "outputs": [
        {
          "output_type": "stream",
          "name": "stdout",
          "text": [
            "\u001b[?25l   \u001b[90m━━━━━━━━━━━━━━━━━━━━━━━━━━━━━━━━━━━━━━━━\u001b[0m \u001b[32m0.0/362.9 kB\u001b[0m \u001b[31m?\u001b[0m eta \u001b[36m-:--:--\u001b[0m\r\u001b[2K   \u001b[90m━━━━━━━━━━━━━━━━━━━━━━━━━━━━━━━━━━━━━━━━\u001b[0m \u001b[32m362.9/362.9 kB\u001b[0m \u001b[31m12.7 MB/s\u001b[0m eta \u001b[36m0:00:00\u001b[0m\n",
            "\u001b[?25h\u001b[?25l   \u001b[90m━━━━━━━━━━━━━━━━━━━━━━━━━━━━━━━━━━━━━━━━\u001b[0m \u001b[32m0.0/75.6 kB\u001b[0m \u001b[31m?\u001b[0m eta \u001b[36m-:--:--\u001b[0m\r\u001b[2K   \u001b[90m━━━━━━━━━━━━━━━━━━━━━━━━━━━━━━━━━━━━━━━━\u001b[0m \u001b[32m75.6/75.6 kB\u001b[0m \u001b[31m4.0 MB/s\u001b[0m eta \u001b[36m0:00:00\u001b[0m\n",
            "\u001b[?25h\u001b[?25l   \u001b[90m━━━━━━━━━━━━━━━━━━━━━━━━━━━━━━━━━━━━━━━━\u001b[0m \u001b[32m0.0/77.9 kB\u001b[0m \u001b[31m?\u001b[0m eta \u001b[36m-:--:--\u001b[0m\r\u001b[2K   \u001b[90m━━━━━━━━━━━━━━━━━━━━━━━━━━━━━━━━━━━━━━━━\u001b[0m \u001b[32m77.9/77.9 kB\u001b[0m \u001b[31m3.0 MB/s\u001b[0m eta \u001b[36m0:00:00\u001b[0m\n",
            "\u001b[2K   \u001b[90m━━━━━━━━━━━━━━━━━━━━━━━━━━━━━━━━━━━━━━━━\u001b[0m \u001b[32m318.9/318.9 kB\u001b[0m \u001b[31m11.5 MB/s\u001b[0m eta \u001b[36m0:00:00\u001b[0m\n",
            "\u001b[2K   \u001b[90m━━━━━━━━━━━━━━━━━━━━━━━━━━━━━━━━━━━━━━━━\u001b[0m \u001b[32m58.3/58.3 kB\u001b[0m \u001b[31m1.5 MB/s\u001b[0m eta \u001b[36m0:00:00\u001b[0m\n",
            "\u001b[?25h"
          ]
        }
      ],
      "source": [
        "pip install openai -qqq"
      ]
    },
    {
      "cell_type": "code",
      "source": [
        "import openai\n",
        "from datetime import datetime, timedelta\n",
        "from dateutil.relativedelta import relativedelta\n",
        "import json"
      ],
      "metadata": {
        "id": "hkGG605aw3ao"
      },
      "execution_count": 2,
      "outputs": []
    },
    {
      "cell_type": "code",
      "source": [
        "def get_start_time(start_datetime_script):\n",
        "    local_vars = {}\n",
        "    start_datetime_script = f'''\n",
        "from datetime import datetime, timedelta\n",
        "from dateutil.relativedelta import relativedelta\n",
        "''' + start_datetime_script\n",
        "    exec(start_datetime_script, {}, local_vars)\n",
        "    if 'start_datetime' in local_vars:\n",
        "        return local_vars['start_datetime']\n",
        "    elif 'end_datetime' in local_vars:  # Sometimes the llm get confused with the variable name\n",
        "        return local_vars['end_datetime']\n",
        "    else:\n",
        "        raise ValueError(\"The script did not assign result to a variable\")\n",
        "\n",
        "\n",
        "def get_end_time(end_datetime_script):\n",
        "    local_vars = {}\n",
        "    end_datetime_script = f'''\n",
        "from datetime import datetime, timedelta\n",
        "from dateutil.relativedelta import relativedelta\n",
        "''' + end_datetime_script\n",
        "    exec(end_datetime_script, {}, local_vars)\n",
        "    if 'end_datetime' in local_vars:\n",
        "        return local_vars['end_datetime']\n",
        "    elif 'start_datetime' in local_vars:    # Sometimes the llm get confused with the variable name\n",
        "        return local_vars['start_datetime']\n",
        "    else:\n",
        "        raise ValueError(\"The script did not assign result to a variable\")\n",
        "\n",
        "\n",
        "# Get API key from environment variable\n",
        "api_key = \"\"\n",
        "\n",
        "if not api_key:\n",
        "    raise ValueError(\"OPENAI_API_KEY environment variable not set.\")\n",
        "\n",
        "client = openai.OpenAI(api_key=api_key)\n",
        "\n",
        "tools = [{\n",
        "    \"type\": \"function\",\n",
        "    \"function\": {\n",
        "        \"name\": \"get_start_time\",\n",
        "        \"description\": f\"\"\"\n",
        "        This function takes a string of python script as arguments. The python script, when executed using exec(), make a `datetime` object corresponds to the start of the time, period or date that the user described.\n",
        "        The datetime object must be assigned to a local variable named 'start_datetime'.\n",
        "        The function returns a datetime object 'start_datetime' describing the time the user is referring to.\"\"\",\n",
        "        \"parameters\": {\n",
        "            \"type\": \"object\",\n",
        "            \"properties\": {\n",
        "                \"start_datetime_script\": {\n",
        "                    \"type\": \"string\",\n",
        "                    \"description\": f\"\"\"\n",
        "                    A string of Python script that, when executed using exec(), generates a `datetime` object representing the start of the time that the user described.\n",
        "                    The datetime object must be assigned to a local variable named 'start_datetime'.\n",
        "                    The script can utilize `datetime` and `timedelta` from the `datetime` module, and `relativedelta` from `dateutil.relativedelta`.\n",
        "                    The script should directly assign the `datetime` expression to 'start_datetime', such as 'start_datetime = datetime(year=2024, month=8, day=23, hour=10, minute=30, second=0)`.\"\"\",\n",
        "                }\n",
        "            },\n",
        "            \"required\": [\"start_datetime_script\"]\n",
        "        }\n",
        "    }\n",
        "},\n",
        "{\n",
        "    \"type\": \"function\",\n",
        "    \"function\": {\n",
        "        \"name\": \"get_end_time\",\n",
        "        \"description\": f\"\"\"\n",
        "        This function takes a string of python script as arguments. The python script, when executed using exec(), make a `datetime` object corresponds to the end of the time, period or date that the user described.\n",
        "        The datetime object must be assigned to a local variable named 'end_datetime'.\n",
        "        The function returns a datetime object 'end_datetime' describing the time the user is referring to.\"\"\",\n",
        "        \"parameters\": {\n",
        "            \"type\": \"object\",\n",
        "            \"properties\": {\n",
        "                \"end_datetime_script\": {\n",
        "                    \"type\": \"string\",\n",
        "                    \"description\": f\"\"\"\n",
        "                    A string of Python script that, when executed using exec(), generates a `datetime` object representing the end of the time that the user described.\n",
        "                    The datetime object must be assigned to a local variable named 'end_datetime'.\n",
        "                    The script can utilize `datetime` and `timedelta` from the `datetime` module, and `relativedelta` from `dateutil.relativedelta`.\n",
        "                    The script should directly assign the `datetime` expression to 'end_datetime', such as 'end_datetime = datetime(year=2024, month=8, day=23, hour=10, minute=30, second=0)`.\"\"\",\n",
        "                }\n",
        "            },\n",
        "            \"required\": [\"end_datetime_script\"]\n",
        "        }\n",
        "    }\n",
        "}\n",
        "]\n",
        "def get_time_from_question(question):\n",
        "    # First, use the is_time tool to check if the question refers to time\n",
        "    messages = [{\"role\": \"user\", \"content\": question}]\n",
        "    completion = client.chat.completions.create(\n",
        "        # model=\"gpt-3.5-turbo\",\n",
        "        model=\"gpt-4o\",\n",
        "        messages=messages,\n",
        "        tools=tools)\n",
        "\n",
        "    # Check the response from is_time\n",
        "    if completion.choices[0].message.tool_calls:\n",
        "        tool_calls = completion.choices[0].message.tool_calls\n",
        "        calls = {}\n",
        "        for call in tool_calls:\n",
        "            calls[call.function.name] = call\n",
        "        # print(calls)\n",
        "        if \"get_start_time\" not in calls and \"get_end_time\" not in calls:\n",
        "            now = datetime.now()\n",
        "            return f\"The user is talking about time from {now - timedelta(hours=1)} up to {now}.\"\n",
        "        elif \"get_start_time\" not in calls:\n",
        "            return \"You must specify a from_datetime.\"\n",
        "        elif \"get_end_time\" not in calls:\n",
        "            now = datetime.now()\n",
        "            tool_call = calls.get(\"get_start_time\")\n",
        "            arguments_json = tool_call.function.arguments\n",
        "            arguments = json.loads(arguments_json)\n",
        "            start_time = get_start_time(**arguments)\n",
        "            return f\"The user is talking about time from {start_time} up to {now}.\"\n",
        "        else:  # (\"get_start_time\" in calls and \"get_end_time\" in calls:)\n",
        "            tool_call = calls.get(\"get_start_time\")\n",
        "            arguments_json = tool_call.function.arguments\n",
        "            arguments = json.loads(arguments_json)\n",
        "            start_time = get_start_time(**arguments)\n",
        "\n",
        "            tool_call = calls.get(\"get_end_time\")\n",
        "            arguments_json = tool_call.function.arguments\n",
        "            arguments = json.loads(arguments_json)\n",
        "            end_time = get_end_time(**arguments)\n",
        "            return f\"The user is talking about time from {start_time} up to {end_time}.\"\n",
        "\n",
        "    else:\n",
        "        now = datetime.now()\n",
        "        return f\"The user is talking about time from {now - timedelta(hours=1)} up to {now}.\""
      ],
      "metadata": {
        "id": "RGVoeRKVmca7"
      },
      "execution_count": 14,
      "outputs": []
    },
    {
      "cell_type": "markdown",
      "source": [
        "### Easy - Medium time questions"
      ],
      "metadata": {
        "id": "d91Uw_qo8Lmc"
      }
    },
    {
      "cell_type": "code",
      "source": [
        "questions=[\n",
        "          \"where did you go from 15.08.2023 to 20 Oct 2023\",\n",
        "          \"where did you go from August 15 2023 to 20.10.2023?\",\n",
        "          \"where did you go between two months ago until a month ago?\",\n",
        "          \"where did you go two months ago?\",\n",
        "          \"where did you go until 15/08/2023?\",\n",
        "          \"where is Argentina located?\",\n",
        "          \"what is the highest mountain in the world?\",\n",
        "           ]\n",
        "for question in questions:\n",
        "  print(f\"Question: {question}\\n\")\n",
        "  print(get_time_from_question(question))\n",
        "  print(\"------------------------------------------------\")"
      ],
      "metadata": {
        "colab": {
          "base_uri": "https://localhost:8080/"
        },
        "id": "yutaPk1Ur6uM",
        "outputId": "4870d761-7c55-426b-e524-8a76bfe25ce2"
      },
      "execution_count": 15,
      "outputs": [
        {
          "output_type": "stream",
          "name": "stdout",
          "text": [
            "Question: where did you go from 15.08.2023 to 20 Oct 2023\n",
            "\n",
            "The user is talking about time from 2023-08-15 00:00:00 up to 2023-10-20 00:00:00.\n",
            "------------------------------------------------\n",
            "Question: where did you go from August 15 2023 to 20.10.2023?\n",
            "\n",
            "The user is talking about time from 2023-08-15 00:00:00 up to 2023-10-20 00:00:00.\n",
            "------------------------------------------------\n",
            "Question: where did you go between two months ago until a month ago?\n",
            "\n",
            "The user is talking about time from 2024-06-24 10:20:17.525636 up to 2024-08-24 10:20:17.525481.\n",
            "------------------------------------------------\n",
            "Question: where did you go two months ago?\n",
            "\n",
            "The user is talking about time from 2024-06-25 10:20:18.161474 up to 2024-08-24 10:20:18.161303.\n",
            "------------------------------------------------\n",
            "Question: where did you go until 15/08/2023?\n",
            "\n",
            "You must specify a from_datetime.\n",
            "------------------------------------------------\n",
            "Question: where is Argentina located?\n",
            "\n",
            "The user is talking about time from 2024-08-24 09:20:19.723990 up to 2024-08-24 10:20:19.723990.\n",
            "------------------------------------------------\n",
            "Question: what is the highest mountain in the world?\n",
            "\n",
            "The user is talking about time from 2024-08-24 09:20:20.493388 up to 2024-08-24 10:20:20.493388.\n",
            "------------------------------------------------\n"
          ]
        }
      ]
    },
    {
      "cell_type": "code",
      "source": [
        "questions=[\n",
        "            \"לאן הלכת מה15.08.2023 ועד ה20 באוקטובר 2023?\",\n",
        "            \"לאן הלכת מהחמש עשרה באוגוסט 2023 ועד ה20.10.2023?\",\n",
        "            \"לאן הלכת לפני חודשיים ועד לפני חודש?\",\n",
        "            \"לאן הלכת לפני חודשיים?\",\n",
        "            \"לאן הלכת עד ה15.08.2023?\",\n",
        "            \"איפה ממוקמת ארגנטינה?\",\n",
        "            \"מה ההר הכי גבוה בעולם?\",\n",
        "           ]\n",
        "for question in questions:\n",
        "  print(f\"Question: {question}\\n\")\n",
        "  print(get_time_from_question(question))\n",
        "  print(\"------------------------------------------------\")"
      ],
      "metadata": {
        "colab": {
          "base_uri": "https://localhost:8080/"
        },
        "id": "ht9MgXGr9Duq",
        "outputId": "da86e83f-66b4-4c6b-be10-b0e7783288c7"
      },
      "execution_count": 17,
      "outputs": [
        {
          "output_type": "stream",
          "name": "stdout",
          "text": [
            "Question: לאן הלכת מה15.08.2023 ועד ה20 באוקטובר 2023?\n",
            "\n",
            "The user is talking about time from 2023-08-15 00:00:00 up to 2023-10-20 00:00:00.\n",
            "------------------------------------------------\n",
            "Question: לאן הלכת מהחמש עשרה באוגוסט 2023 ועד ה20.10.2023?\n",
            "\n",
            "The user is talking about time from 2023-08-15 00:00:00 up to 2023-10-20 00:00:00.\n",
            "------------------------------------------------\n",
            "Question: לאן הלכת לפני חודשיים ועד לפני חודש?\n",
            "\n",
            "The user is talking about time from 2024-06-24 10:21:02.564222 up to 2024-07-24 10:21:02.564369.\n",
            "------------------------------------------------\n",
            "Question: לאן הלכת לפני חודשיים?\n",
            "\n",
            "The user is talking about time from 2024-06-24 10:21:03.176354 up to 2024-08-24 10:21:03.176233.\n",
            "------------------------------------------------\n",
            "Question: לאן הלכת עד ה15.08.2023?\n",
            "\n",
            "You must specify a from_datetime.\n",
            "------------------------------------------------\n",
            "Question: איפה ממוקמת ארגנטינה?\n",
            "\n",
            "The user is talking about time from 2024-08-24 09:21:04.878073 up to 2024-08-24 10:21:04.878073.\n",
            "------------------------------------------------\n",
            "Question: מה ההר הכי גבוה בעולם?\n",
            "\n",
            "The user is talking about time from 2024-08-24 09:21:05.668270 up to 2024-08-24 10:21:05.668270.\n",
            "------------------------------------------------\n"
          ]
        }
      ]
    },
    {
      "cell_type": "markdown",
      "source": [
        "### Hard time questions"
      ],
      "metadata": {
        "id": "eO4XunUAAkus"
      }
    },
    {
      "cell_type": "code",
      "source": [
        "questions=[\n",
        "            \"where did you go between Passover 2022 to the begining of Christmas 2023\",\n",
        "            \"where did you go 3 days before the longest day of the year until the date of the end of the second quarter\",\n",
        "            \"where did you go between the death date of Amy Winehouse until the release of 1989 album of Taylor Swift\",\n",
        "           ]\n",
        "for question in questions:\n",
        "  print(f\"Question: {question}\\n\")\n",
        "  print(get_time_from_question(question))\n",
        "  print(\"------------------------------------------------\")"
      ],
      "metadata": {
        "colab": {
          "base_uri": "https://localhost:8080/"
        },
        "id": "7QmTP1aoAti8",
        "outputId": "5cc3eff7-791e-4599-fe34-4144c61e85e6"
      },
      "execution_count": 18,
      "outputs": [
        {
          "output_type": "stream",
          "name": "stdout",
          "text": [
            "Question: where did you go between Passover 2022 to the begining of Christmas 2023\n",
            "\n",
            "The user is talking about time from 2022-04-15 00:00:00 up to 2023-12-24 00:00:00.\n",
            "------------------------------------------------\n",
            "Question: where did you go 3 days before the longest day of the year until the date of the end of the second quarter\n",
            "\n",
            "The user is talking about time from 2024-06-18 00:00:00 up to 2024-06-30 00:00:00.\n",
            "------------------------------------------------\n",
            "Question: where did you go between the death date of Amy Winehouse until the release of 1989 album of Taylor Swift\n",
            "\n",
            "The user is talking about time from 2011-07-23 00:00:00 up to 2014-10-27 00:00:00.\n",
            "------------------------------------------------\n"
          ]
        }
      ]
    },
    {
      "cell_type": "code",
      "source": [
        "questions=[\n",
        "            \"לאן הלכת מפסח 2022 ועד לתחילת חג המולד 2023?\",\n",
        "            \"לאן הלכת 3 ימים לפני היום הכי ארוך בשנה ועד לסוף הרבעון השני?\",\n",
        "            \"לאן הלכת בין תאריך פטירתה של איימי ויינהאוס לבין הוצאת האלבום 1989 של טיילור סוויפט?\",\n",
        "           ]\n",
        "for question in questions:\n",
        "  print(f\"Question: {question}\\n\")\n",
        "  print(get_time_from_question(question))\n",
        "  print(\"------------------------------------------------\")"
      ],
      "metadata": {
        "colab": {
          "base_uri": "https://localhost:8080/"
        },
        "id": "KPzQjrQMAqVQ",
        "outputId": "1c249ee5-496e-40e5-cde5-6edf6374980a"
      },
      "execution_count": 19,
      "outputs": [
        {
          "output_type": "stream",
          "name": "stdout",
          "text": [
            "Question: לאן הלכת מפסח 2022 ועד לתחילת חג המולד 2023?\n",
            "\n",
            "The user is talking about time from 2022-04-15 00:00:00 up to 2023-12-25 00:00:00.\n",
            "------------------------------------------------\n",
            "Question: לאן הלכת 3 ימים לפני היום הכי ארוך בשנה ועד לסוף הרבעון השני?\n",
            "\n",
            "The user is talking about time from 2024-06-18 00:00:00 up to 2024-06-30 23:59:59.\n",
            "------------------------------------------------\n",
            "Question: לאן הלכת בין תאריך פטירתה של איימי ויינהאוס לבין הוצאת האלבום 1989 של טיילור סוויפט?\n",
            "\n",
            "The user is talking about time from 2011-07-23 00:00:00 up to 2014-10-27 00:00:00.\n",
            "------------------------------------------------\n"
          ]
        }
      ]
    }
  ]
}